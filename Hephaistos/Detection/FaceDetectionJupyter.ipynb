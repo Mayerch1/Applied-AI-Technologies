{
 "cells": [
  {
   "cell_type": "code",
   "execution_count": 1,
   "metadata": {},
   "outputs": [
    {
     "name": "stdout",
     "output_type": "stream",
     "text": [
      "Gesichter ()\n",
      "Augen [[137 361  55  55]]\n"
     ]
    }
   ],
   "source": [
    "import cv2\n",
    "\n",
    "face_cascade = cv2.CascadeClassifier('./openCV/haarcascade_frontalface_default.xml')\n",
    "eye_cascade = cv2.CascadeClassifier('./openCV/haarcascade_eye.xml')\n",
    "\n",
    "path=\"./tmp/TestBild6.png\"\n",
    "img = cv2.imread(path)\n",
    "shape=img.shape[0]/img.shape[1]\n",
    "img = cv2.resize(img,(512,int(512*shape)))\n",
    "gray = cv2.cvtColor(img,cv2.COLOR_BGR2GRAY)\n",
    "\n",
    "faces = face_cascade.detectMultiScale(gray, 1.3, 5)\n",
    "\n",
    "for (x,y,w,h) in faces:\n",
    "    cv2.rectangle(img,(x,y),(x+w,y+h),(255,0,0),2)\n",
    "    roi_gray = gray[y:y+h, x:x+w]\n",
    "    roi_color = img[y:y+h, x:x+w]\n",
    "    eyes = eye_cascade.detectMultiScale(roi_gray)\n",
    "    for(ex,ey,ew,eh) in eyes:\n",
    "        cv2.rectangle(roi_color,(ex,ey),(ex+ew,ey+eh),(0,255,0),2)\n",
    "        \n",
    "eyes = eye_cascade.detectMultiScale(gray)\n",
    "for (x,y,w,h) in eyes:\n",
    "    cv2.rectangle(img,(x,y),(x+w,y+h),(0,255,0),2)        \n",
    "print(\"Gesichter\",faces)\n",
    "print(\"Augen\",eyes)        \n",
    "cv2.imshow('img',img)  \n",
    "cv2.waitKey(0)\n",
    "cv2.destroyAllWindows()"
   ]
  },
  {
   "cell_type": "code",
   "execution_count": null,
   "metadata": {},
   "outputs": [],
   "source": []
  },
  {
   "cell_type": "markdown",
   "metadata": {},
   "source": [
    "## full_test"
   ]
  },
  {
   "cell_type": "code",
   "execution_count": 12,
   "metadata": {},
   "outputs": [
    {
     "name": "stdout",
     "output_type": "stream",
     "text": [
      "Gesicht 1\n",
      "Augen 0\n",
      "Mund 1\n",
      "XXXXX\n"
     ]
    }
   ],
   "source": [
    "import cv2\n",
    "\n",
    "face_cascade = cv2.CascadeClassifier('./openCV/haarcascade_frontalface_default.xml')\n",
    "eye_cascade = cv2.CascadeClassifier('./openCV/haarcascade_eye.xml')\n",
    "smile_cascade = cv2.CascadeClassifier('./openCV/haarcascade_smile.xml')\n",
    "\n",
    "#path=\"./tmp/16008.png\"\n",
    "path=\"./tmp/TestBild21.png\"\n",
    "img = cv2.imread(path)\n",
    "shape=img.shape[0]/img.shape[1]\n",
    "img = cv2.resize(img,(512,int(512*shape)))\n",
    "gray = cv2.cvtColor(img,cv2.COLOR_BGR2GRAY)\n",
    "\n",
    "#Eye detection whole img\n",
    "eyes = list(eye_cascade.detectMultiScale(\n",
    "        gray,\n",
    "        scaleFactor=1.2, \n",
    "        minNeighbors=18))\n",
    "for (x,y,w,h) in eyes:\n",
    "    cv2.rectangle(img,(x,y),(x+w,y+h),(0,255,0),2)\n",
    "    cv2.putText(img,'Eye',(x,y), 1, 1, (0, 255, 0), 1) \n",
    "    \n",
    "#Mouth detection whole img \n",
    "smile = list(smile_cascade.detectMultiScale(\n",
    "        gray,\n",
    "        scaleFactor= 1.16,\n",
    "        minNeighbors=35,))\n",
    "\n",
    "    \n",
    "#Face detection\n",
    "eyes2=[]\n",
    "smile2=[]\n",
    "cropped_face=[]\n",
    "faces = face_cascade.detectMultiScale(gray, 1.2, 5)\n",
    "for (x,y,w,h) in faces:\n",
    "    \n",
    "    roi_gray = gray[y:y+h, x:x+w]\n",
    "    roi_color = img[y:y+h, x:x+w]\n",
    "    cropped_face=roi_color \n",
    "    cv2.rectangle(img,(x,y),(x+w,y+h),(255,0,0),2)\n",
    "    #Eye detection on face\n",
    "    eyes2 = eye_cascade.detectMultiScale(roi_gray,scaleFactor=1.2, minNeighbors=18)\n",
    "    \n",
    "    #Mouth detection on face\n",
    "    smile2 = smile_cascade.detectMultiScale(\n",
    "        roi_gray,\n",
    "        scaleFactor= 1.3,\n",
    "        minNeighbors=30,\n",
    "        minSize=(25, 25))\n",
    "    for (sx, sy, sw, sh) in smile2:\n",
    "        cv2.rectangle(roi_color, (sh, sy), (sx+sw, sy+sh), (255, 255, 0), 2)\n",
    "        cv2.putText(img,'Mouth',(x + sx,y + sy), 1, 1, (0, 255, 0), 1)\n",
    "\n",
    "              \n",
    "print(\"Gesicht\",len(faces))\n",
    "print(\"Augen\",len(eyes))\n",
    "print(\"Mund\", len(smile))  \n",
    "\n",
    "if len(faces)>=1 and len(smile2)>=1:\n",
    "    print(\"XXXXX\")\n",
    "\n",
    "elif len(faces)>=1 or len(eyes)+len(eyes2)>=2 or len(smile)+len(smile2)>=1:\n",
    "    None # COULD wear mask --> crop image and check \n",
    "    print(\"???\")\n",
    "else:\n",
    "    None # DOES wear a mask --> everything fine\n",
    "    print(\"OK\")\n",
    "\n",
    "cv2.imshow('img',img)  \n",
    "cv2.waitKey(0)\n",
    "cv2.destroyAllWindows()"
   ]
  },
  {
   "cell_type": "markdown",
   "metadata": {},
   "source": [
    "## reduced"
   ]
  },
  {
   "cell_type": "code",
   "execution_count": 19,
   "metadata": {},
   "outputs": [],
   "source": []
  },
  {
   "cell_type": "code",
   "execution_count": 4,
   "metadata": {},
   "outputs": [
    {
     "name": "stdout",
     "output_type": "stream",
     "text": [
      "Gesicht 1\n",
      "Augen 2 Augen inside 2\n",
      "Mund 1 Mund inside 1\n",
      "XXXXX\n"
     ]
    }
   ],
   "source": [
    "import cv2\n",
    "\n",
    "face_cascade = cv2.CascadeClassifier('./openCV/haarcascade_frontalface_default.xml')\n",
    "eye_cascade = cv2.CascadeClassifier('./openCV/haarcascade_eye.xml')\n",
    "smile_cascade = cv2.CascadeClassifier('./openCV/haarcascade_smile.xml')\n",
    "\n",
    "#path=\"./tmp/16008.png\"\n",
    "path=\"./tmp/TestBild22.png\"\n",
    "img = cv2.imread(path)\n",
    "shape=img.shape[0]/img.shape[1]\n",
    "img = cv2.resize(img,(512,int(512*shape)))\n",
    "gray = cv2.cvtColor(img,cv2.COLOR_BGR2GRAY)\n",
    "\n",
    "#Eye detection whole img\n",
    "eyes = eye_cascade.detectMultiScale(\n",
    "        gray,\n",
    "        scaleFactor=1.2, \n",
    "        minNeighbors=18)\n",
    "    \n",
    "#Mouth detection whole img \n",
    "smile = smile_cascade.detectMultiScale(\n",
    "        gray,\n",
    "        scaleFactor= 1.16,\n",
    "        minNeighbors=35)\n",
    "\n",
    "    \n",
    "#Face detection\n",
    "eyes2=[]\n",
    "smile2=[]\n",
    "cropped_face=[]\n",
    "faces = face_cascade.detectMultiScale(gray, 1.2, 5)\n",
    "for (x,y,w,h) in faces:\n",
    "    cv2.rectangle(img,(x,y),(x+w,y+h),(255,0,0),2)\n",
    "    roi_gray = gray[y:y+h, x:x+w]\n",
    "    roi_color = img[y:y+h, x:x+w]\n",
    "    cropped_face=roi_color \n",
    "    \n",
    "    #Eye detection on face\n",
    "    eyes2 = eye_cascade.detectMultiScale(roi_gray,scaleFactor=1.2, minNeighbors=18)\n",
    "    \n",
    "    #Mouth detection on face\n",
    "    smile2 = smile_cascade.detectMultiScale(\n",
    "        roi_gray,\n",
    "        scaleFactor= 1.15,\n",
    "        minNeighbors=30,\n",
    "        minSize=(25, 25))\n",
    "\n",
    "              \n",
    "print(\"Gesicht\",len(faces))\n",
    "print(\"Augen\",len(eyes), \"Augen inside\", len(eyes2))\n",
    "print(\"Mund\", len(smile),\"Mund inside\", len(smile2))  \n",
    "\n",
    "if len(faces)>=1 and len(smile2)>=1:\n",
    "    print(\"XXXXX\") # NOT wearing a mask --> stop!\n",
    "\n",
    "elif len(faces)>=1 or len(eyes)+len(eyes2)>=2 or len(smile)+len(smile2)>=1:\n",
    "    None # COULD wear mask --> crop image and check \n",
    "    print(\"???\")\n",
    "    if cropped_face!= []:\n",
    "        cv2.imwrite('./tmp/test.png',cropped_face)\n",
    "        print(\"saved\")\n",
    "else:\n",
    "    None # WEARING a mask --> everything fine\n",
    "    print(\"OK\")\n"
   ]
  },
  {
   "cell_type": "code",
   "execution_count": 1,
   "metadata": {},
   "outputs": [],
   "source": [
    "def FaceDetection(path):\n",
    "    import cv2\n",
    "\n",
    "    face_cascade = cv2.CascadeClassifier('./openCV/haarcascade_frontalface_default.xml')\n",
    "    eye_cascade = cv2.CascadeClassifier('./openCV/haarcascade_eye.xml')\n",
    "    smile_cascade = cv2.CascadeClassifier('./openCV/haarcascade_smile.xml')\n",
    "    \n",
    "    img = cv2.imread(path)\n",
    "    shape=img.shape[0]/img.shape[1]\n",
    "    img = cv2.resize(img,(512,int(512*shape)))\n",
    "    gray = cv2.cvtColor(img,cv2.COLOR_BGR2GRAY)\n",
    "\n",
    "    #Eye detection whole img\n",
    "    eyes = eye_cascade.detectMultiScale(\n",
    "            gray,\n",
    "            scaleFactor=1.2, \n",
    "            minNeighbors=18)\n",
    "\n",
    "    #Mouth detection whole img \n",
    "    smile = smile_cascade.detectMultiScale(\n",
    "            gray,\n",
    "            scaleFactor= 1.16,\n",
    "            minNeighbors=35)\n",
    "\n",
    "\n",
    "    #Face detection\n",
    "    eyes2=[]\n",
    "    smile2=[]\n",
    "    cropped_face=[]\n",
    "    faces = face_cascade.detectMultiScale(gray, 1.2, 5)\n",
    "    for (x,y,w,h) in faces:\n",
    "        \n",
    "        roi_gray = gray[y:y+h, x:x+w]\n",
    "        roi_color = img[y:y+h, x:x+w]\n",
    "        cropped_face=roi_color \n",
    "        cv2.rectangle(img,(x,y),(x+w,y+h),(255,0,0),2)\n",
    "        #Eye detection on face\n",
    "        eyes2 = eye_cascade.detectMultiScale(roi_gray,scaleFactor=1.2, minNeighbors=18)\n",
    "\n",
    "        #Mouth detection on face\n",
    "        smile2 = smile_cascade.detectMultiScale(\n",
    "            roi_gray,\n",
    "            scaleFactor= 1.15,\n",
    "            minNeighbors=30,\n",
    "            minSize=(25, 25))\n",
    "\n",
    "\n",
    "    print(\"Gesicht\",len(faces))\n",
    "    print(\"Augen\",len(eyes), \"Augen inside\", len(eyes2))\n",
    "    print(\"Mund\", len(smile),\"Mund inside\", len(smile2))  \n",
    "\n",
    "    if len(faces)>=1 and len(smile2)>=1:\n",
    "        # NOT wearing a mask --> stop!\n",
    "        return \"nomask\"\n",
    "\n",
    "    elif len(faces)>=1 or len(eyes)+len(eyes2)>=2 or len(smile)+len(smile2)>=1:\n",
    "        # COULD wear mask --> crop image and check \n",
    "        if cropped_face!= []:\n",
    "            cv2.imwrite(path,cropped_face)\n",
    "            print(\"saved\")\n",
    "        return \"?\"\n",
    "    else:\n",
    "        # WEARING a mask --> everything fine\n",
    "        return \"ok\"\n",
    "\n"
   ]
  },
  {
   "cell_type": "code",
   "execution_count": 13,
   "metadata": {},
   "outputs": [
    {
     "name": "stdout",
     "output_type": "stream",
     "text": [
      "Gesicht 0\n",
      "Augen 2 Augen inside 0\n",
      "Mund 0 Mund inside 0\n"
     ]
    },
    {
     "data": {
      "text/plain": [
       "'?'"
      ]
     },
     "execution_count": 13,
     "metadata": {},
     "output_type": "execute_result"
    }
   ],
   "source": [
    "FaceDetection(path=\"./tmp/TestBild23.png\")"
   ]
  },
  {
   "cell_type": "code",
   "execution_count": null,
   "metadata": {},
   "outputs": [],
   "source": []
  },
  {
   "cell_type": "code",
   "execution_count": null,
   "metadata": {},
   "outputs": [],
   "source": []
  }
 ],
 "metadata": {
  "kernelspec": {
   "display_name": "Python 3",
   "language": "python",
   "name": "python3"
  },
  "language_info": {
   "codemirror_mode": {
    "name": "ipython",
    "version": 3
   },
   "file_extension": ".py",
   "mimetype": "text/x-python",
   "name": "python",
   "nbconvert_exporter": "python",
   "pygments_lexer": "ipython3",
   "version": "3.7.7"
  }
 },
 "nbformat": 4,
 "nbformat_minor": 4
}
