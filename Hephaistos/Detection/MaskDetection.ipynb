{
 "cells": [
  {
   "cell_type": "markdown",
   "metadata": {},
   "source": [
    "# Import"
   ]
  },
  {
   "cell_type": "code",
   "execution_count": null,
   "metadata": {
    "ExecuteTime": {
     "end_time": "2020-07-04T08:46:10.231943Z",
     "start_time": "2020-07-04T08:46:03.837383Z"
    }
   },
   "outputs": [],
   "source": [
    "import numpy as np\n",
    "from PIL import Image\n",
    "import matplotlib.pyplot as plt\n",
    "from collections import Counter\n",
    "from tensorflow.keras.losses import BinaryCrossentropy\n",
    "from tensorflow.keras.models import Sequential\n",
    "from tensorflow.keras.layers import Dense, Conv2D, Flatten, Dropout, MaxPooling2D\n",
    "from tensorflow.keras.preprocessing.image import ImageDataGenerator\n",
    "from tensorflow.keras.callbacks import ModelCheckpoint,EarlyStopping, ReduceLROnPlateau\n",
    "from get_dataset import get_training_and_validation\n",
    "from tensorflow.keras.models import save_model, load_model\n",
    "from sklearn.metrics import classification_report, confusion_matrix\n",
    "from tensorflow.keras.models import save_model, load_model"
   ]
  },
  {
   "cell_type": "code",
   "execution_count": null,
   "metadata": {
    "ExecuteTime": {
     "end_time": "2020-07-04T08:46:10.234945Z",
     "start_time": "2020-07-04T08:46:10.232952Z"
    }
   },
   "outputs": [],
   "source": [
    "#import tensorflow as tf\n",
    "#print(\"Num GPUs Available: \", len(tf.config.experimental.list_physical_devices('GPU')))\n",
    "#tf.debugging.set_log_device_placement(True)"
   ]
  },
  {
   "cell_type": "code",
   "execution_count": null,
   "metadata": {
    "ExecuteTime": {
     "end_time": "2020-07-04T08:46:10.240954Z",
     "start_time": "2020-07-04T08:46:10.236945Z"
    }
   },
   "outputs": [],
   "source": [
    "batch_size = 32\n",
    "epochs = 50\n",
    "IMG_HEIGHT = 256\n",
    "IMG_WIDTH = 256\n",
    "\n",
    "# make sure to write own classifier-function in next cell\n",
    "# if num_classes is greater than 2"
   ]
  },
  {
   "cell_type": "markdown",
   "metadata": {},
   "source": [
    "# Load Data"
   ]
  },
  {
   "cell_type": "code",
   "execution_count": null,
   "metadata": {
    "ExecuteTime": {
     "end_time": "2020-07-04T10:12:36.782688Z",
     "start_time": "2020-07-04T10:12:36.579641Z"
    }
   },
   "outputs": [],
   "source": [
    "# this filter allows all combination with exactly 1 human on it\n",
    "# artificial masks (photoshop, cg), are not distinguished\n",
    "\n",
    "# this implicite sets the ['class'] as follows:\n",
    "#   with_mask >= 1 -> 'mask'\n",
    "#   with_mask == 0 -> 'no_mask'\n",
    "#  classifier-attribute can be set to own function for matching data-rows into classes\n",
    "frame = get_training_and_validation(people_per_img = 1, with_mask=None, no_mask=None, unknown=0,validation_split=0.15 ,test_split=0.1)\n",
    "\n",
    "train_frame=frame[0]\n",
    "val_frame=frame[1]\n",
    "test_frame=frame[2]\n",
    "\n",
    "\n",
    "print('Filter returned {:d} train images'.format(len(train_frame)))\n",
    "print(Counter(train_frame['class']))\n",
    "print('Filter returned {:d} valid images'.format(len(val_frame)))\n",
    "try:\n",
    "    print('Filter returned {:d} test images'.format(len(test_frame)))\n",
    "except:\n",
    "    print (\"Filter returned no test images\")\n",
    "    \n",
    "num_classes = len(Counter(train_frame['class']))"
   ]
  },
  {
   "cell_type": "markdown",
   "metadata": {},
   "source": [
    "# Data preparation"
   ]
  },
  {
   "cell_type": "code",
   "execution_count": null,
   "metadata": {
    "ExecuteTime": {
     "end_time": "2020-07-04T10:12:39.074382Z",
     "start_time": "2020-07-04T10:12:39.071381Z"
    }
   },
   "outputs": [],
   "source": [
    "def get_data_generator(image_generator, frame, shuffle=True):\n",
    "    return image_generator.flow_from_dataframe(frame, directory='./', x_col='Path', y_col='class', color_mode=\"rgb\",\n",
    "                                                 batch_size = batch_size, shuffle=shuffle, target_size=(IMG_HEIGHT, IMG_WIDTH), class_mode='categorical')"
   ]
  },
  {
   "cell_type": "code",
   "execution_count": null,
   "metadata": {
    "ExecuteTime": {
     "end_time": "2020-07-04T10:12:39.328439Z",
     "start_time": "2020-07-04T10:12:39.324438Z"
    }
   },
   "outputs": [],
   "source": [
    "# generator for all data\n",
    "image_generator = ImageDataGenerator(\n",
    "                    rescale=1./255,\n",
    "                    rotation_range=15,\n",
    "                    width_shift_range=.15,\n",
    "                    height_shift_range=.15,\n",
    "                    horizontal_flip=True,\n",
    "                    zoom_range=0.2\n",
    "                    )\n",
    "image_generator_test = ImageDataGenerator(rescale=1./255)"
   ]
  },
  {
   "cell_type": "code",
   "execution_count": null,
   "metadata": {
    "ExecuteTime": {
     "end_time": "2020-07-04T10:12:40.284665Z",
     "start_time": "2020-07-04T10:12:39.570494Z"
    }
   },
   "outputs": [],
   "source": [
    "train_data_gen = get_data_generator(image_generator, train_frame)\n",
    "\n",
    "validation_data_gen = get_data_generator(image_generator_test, val_frame)\n"
   ]
  },
  {
   "cell_type": "code",
   "execution_count": null,
   "metadata": {
    "ExecuteTime": {
     "end_time": "2020-07-04T10:12:40.875789Z",
     "start_time": "2020-07-04T10:12:40.285655Z"
    }
   },
   "outputs": [],
   "source": [
    "sample_training_images, _ = next(train_data_gen)"
   ]
  },
  {
   "cell_type": "code",
   "execution_count": null,
   "metadata": {
    "ExecuteTime": {
     "end_time": "2020-07-04T10:12:41.088696Z",
     "start_time": "2020-07-04T10:12:41.084695Z"
    }
   },
   "outputs": [],
   "source": [
    "# This function will plot images in the form of a grid with 1 row and 5 columns where images are placed in each column.\n",
    "def plotImages(images_arr):\n",
    "    fig, axes = plt.subplots(1, 5, figsize=(20,20))\n",
    "    axes = axes.flatten()\n",
    "    for img, ax in zip( images_arr, axes):\n",
    "        ax.imshow(img,interpolation='none')\n",
    "        ax.axis('off')\n",
    "    plt.tight_layout()\n",
    "    plt.show()"
   ]
  },
  {
   "cell_type": "code",
   "execution_count": null,
   "metadata": {
    "ExecuteTime": {
     "end_time": "2020-07-04T10:12:42.501024Z",
     "start_time": "2020-07-04T10:12:42.160939Z"
    }
   },
   "outputs": [],
   "source": [
    "plotImages(sample_training_images[:5])"
   ]
  },
  {
   "cell_type": "markdown",
   "metadata": {},
   "source": [
    "# First Model\n",
    "## Create a starting model"
   ]
  },
  {
   "cell_type": "code",
   "execution_count": null,
   "metadata": {
    "ExecuteTime": {
     "end_time": "2020-07-03T20:06:20.859541Z",
     "start_time": "2020-07-03T20:06:16.549087Z"
    }
   },
   "outputs": [],
   "source": [
    "model = Sequential([\n",
    "    Conv2D(32, 3, padding='same', strides=2,activation='relu', input_shape=(IMG_HEIGHT, IMG_WIDTH ,3)),\n",
    "    MaxPooling2D(),\n",
    "    Conv2D(64, 3, padding='same', strides=2,activation='relu'),\n",
    "    MaxPooling2D(),\n",
    "    Conv2D(64, 3, padding='same', strides=2,activation='relu'),\n",
    "    MaxPooling2D(),\n",
    "    Flatten(),\n",
    "    Dense(512, activation='relu'),\n",
    "    Dense(num_classes, activation='softmax')\n",
    "])"
   ]
  },
  {
   "cell_type": "code",
   "execution_count": null,
   "metadata": {
    "ExecuteTime": {
     "end_time": "2020-07-03T20:06:20.903515Z",
     "start_time": "2020-07-03T20:06:20.860556Z"
    }
   },
   "outputs": [],
   "source": [
    "model.compile(optimizer='adam',\n",
    "              loss='binary_crossentropy',\n",
    "              metrics=['accuracy'])\n"
   ]
  },
  {
   "cell_type": "code",
   "execution_count": null,
   "metadata": {
    "ExecuteTime": {
     "end_time": "2020-07-03T20:06:20.908505Z",
     "start_time": "2020-07-03T20:06:20.904514Z"
    }
   },
   "outputs": [],
   "source": [
    "model.summary()"
   ]
  },
  {
   "cell_type": "markdown",
   "metadata": {},
   "source": [
    "## Train the model"
   ]
  },
  {
   "cell_type": "code",
   "execution_count": null,
   "metadata": {
    "ExecuteTime": {
     "end_time": "2020-07-03T20:25:11.893263Z",
     "start_time": "2020-07-03T20:06:20.909505Z"
    }
   },
   "outputs": [],
   "source": [
    "#small training with only X epochs - save old epochs value\n",
    "epochs_saved=epochs\n",
    "epochs=10\n",
    "history = model.fit(\n",
    "    train_data_gen,\n",
    "    epochs=epochs,\n",
    "    validation_data=validation_data_gen,\n",
    ")"
   ]
  },
  {
   "cell_type": "code",
   "execution_count": null,
   "metadata": {
    "ExecuteTime": {
     "end_time": "2020-07-03T20:52:11.861372Z",
     "start_time": "2020-07-03T20:52:11.745345Z"
    }
   },
   "outputs": [],
   "source": [
    "acc = history.history['accuracy']\n",
    "val_acc = history.history['val_accuracy']\n",
    "\n",
    "loss=history.history['loss']\n",
    "val_loss=history.history['val_loss']\n",
    "\n",
    "epochs_range = range(epochs)\n",
    "\n",
    "plt.figure(figsize=(8, 8))\n",
    "plt.subplot(1, 2, 1)\n",
    "plt.plot(epochs_range, acc, label='Training Accuracy')\n",
    "plt.plot(epochs_range, val_acc, label='Validation Accuracy')\n",
    "plt.legend(loc='lower right')\n",
    "plt.title('Training and Validation Accuracy')\n",
    "\n",
    "plt.subplot(1, 2, 2)\n",
    "plt.plot(epochs_range, loss, label='Training Loss')\n",
    "plt.plot(epochs_range, val_loss, label='Validation Loss')\n",
    "plt.legend(loc='upper right')\n",
    "plt.title('Training and Validation Loss')\n",
    "plt.show()"
   ]
  },
  {
   "cell_type": "code",
   "execution_count": null,
   "metadata": {
    "ExecuteTime": {
     "end_time": "2020-07-03T20:25:12.158322Z",
     "start_time": "2020-07-03T20:25:12.155323Z"
    }
   },
   "outputs": [],
   "source": [
    "#RESTORE old epochs value\n",
    "epochs=epochs_saved"
   ]
  },
  {
   "cell_type": "markdown",
   "metadata": {},
   "source": [
    "# Data augmentation versions"
   ]
  },
  {
   "cell_type": "markdown",
   "metadata": {},
   "source": [
    "## Flip and Shift"
   ]
  },
  {
   "cell_type": "code",
   "execution_count": null,
   "metadata": {
    "ExecuteTime": {
     "end_time": "2020-07-03T15:56:16.440373Z",
     "start_time": "2020-07-03T15:56:15.887250Z"
    }
   },
   "outputs": [],
   "source": [
    "#Flip and shift by up to 15%\n",
    "image_gen = ImageDataGenerator(rescale=1./255, horizontal_flip=True,width_shift_range=.15,\n",
    "                    height_shift_range=.15,)\n",
    "\n",
    "train_data_gen = get_data_generator(image_gen, train_frame)"
   ]
  },
  {
   "cell_type": "code",
   "execution_count": null,
   "metadata": {
    "ExecuteTime": {
     "end_time": "2020-07-03T15:56:19.286015Z",
     "start_time": "2020-07-03T15:56:16.441374Z"
    }
   },
   "outputs": [],
   "source": [
    "augmented_images = [train_data_gen[0][0][0] for i in range(5)]\n",
    "\n",
    "# Re-use the same custom plotting function defined and used\n",
    "# above to visualize the training images\n",
    "plotImages(augmented_images)"
   ]
  },
  {
   "cell_type": "code",
   "execution_count": null,
   "metadata": {},
   "outputs": [],
   "source": [
    "\n"
   ]
  },
  {
   "cell_type": "markdown",
   "metadata": {},
   "source": [
    "## Rotate"
   ]
  },
  {
   "cell_type": "code",
   "execution_count": null,
   "metadata": {
    "ExecuteTime": {
     "end_time": "2020-07-03T15:56:19.842140Z",
     "start_time": "2020-07-03T15:56:19.287015Z"
    }
   },
   "outputs": [],
   "source": [
    "# Rotate picture by -15 to 15 degree\n",
    "image_gen = ImageDataGenerator(rescale=1./255, rotation_range=15)\n",
    "\n",
    "train_data_gen = get_data_generator(image_gen, train_frame)"
   ]
  },
  {
   "cell_type": "code",
   "execution_count": null,
   "metadata": {
    "ExecuteTime": {
     "end_time": "2020-07-03T15:56:22.489002Z",
     "start_time": "2020-07-03T15:56:19.843141Z"
    }
   },
   "outputs": [],
   "source": [
    "augmented_images = [train_data_gen[0][0][0] for i in range(5)]\n",
    "\n",
    "plotImages(augmented_images)"
   ]
  },
  {
   "cell_type": "markdown",
   "metadata": {},
   "source": [
    "## Zoom"
   ]
  },
  {
   "cell_type": "code",
   "execution_count": null,
   "metadata": {
    "ExecuteTime": {
     "end_time": "2020-07-03T15:56:23.042128Z",
     "start_time": "2020-07-03T15:56:22.490002Z"
    }
   },
   "outputs": [],
   "source": [
    "# Zoom picture up to 30%\n",
    "image_gen = ImageDataGenerator(rescale=1./255, zoom_range=0.3)\n",
    "\n",
    "train_data_gen = get_data_generator(image_gen, train_frame)"
   ]
  },
  {
   "cell_type": "code",
   "execution_count": null,
   "metadata": {
    "ExecuteTime": {
     "end_time": "2020-07-03T15:56:25.718367Z",
     "start_time": "2020-07-03T15:56:23.043127Z"
    }
   },
   "outputs": [],
   "source": [
    "augmented_images = [train_data_gen[0][0][0] for i in range(5)]\n",
    "\n",
    "plotImages(augmented_images)"
   ]
  },
  {
   "cell_type": "code",
   "execution_count": null,
   "metadata": {},
   "outputs": [],
   "source": []
  },
  {
   "cell_type": "markdown",
   "metadata": {},
   "source": [
    "# Updated Image Generator"
   ]
  },
  {
   "cell_type": "code",
   "execution_count": null,
   "metadata": {
    "ExecuteTime": {
     "end_time": "2020-07-04T10:12:47.725986Z",
     "start_time": "2020-07-04T10:12:47.720985Z"
    }
   },
   "outputs": [],
   "source": [
    "# generator for all data\n",
    "image_generator = ImageDataGenerator(\n",
    "                    rescale=1./255,\n",
    "                    rotation_range=15,\n",
    "                    width_shift_range=.10,\n",
    "                    height_shift_range=.10,\n",
    "                    horizontal_flip=True,\n",
    "                    zoom_range=0.2\n",
    "                    )\n",
    "\n",
    "#image generator for test data\n",
    "image_generator_test = ImageDataGenerator(rescale=1./255)"
   ]
  },
  {
   "cell_type": "code",
   "execution_count": null,
   "metadata": {
    "ExecuteTime": {
     "end_time": "2020-07-04T10:12:48.777164Z",
     "start_time": "2020-07-04T10:12:48.012991Z"
    }
   },
   "outputs": [],
   "source": [
    "train_data_gen = get_data_generator(image_generator, train_frame)\n",
    "\n",
    "validation_data_gen = get_data_generator(image_generator_test, val_frame)\n",
    "\n",
    "test_data_gen = get_data_generator(image_generator_test, test_frame, shuffle=False)"
   ]
  },
  {
   "cell_type": "code",
   "execution_count": null,
   "metadata": {
    "ExecuteTime": {
     "end_time": "2020-07-04T10:12:51.827853Z",
     "start_time": "2020-07-04T10:12:48.779164Z"
    },
    "scrolled": true
   },
   "outputs": [],
   "source": [
    "augmented_images = [train_data_gen[0][0][0] for i in range(5)]\n",
    "plotImages(augmented_images)"
   ]
  },
  {
   "cell_type": "markdown",
   "metadata": {},
   "source": [
    "# Second Model with Dropout"
   ]
  },
  {
   "cell_type": "code",
   "execution_count": null,
   "metadata": {
    "ExecuteTime": {
     "end_time": "2020-07-04T08:46:19.952944Z",
     "start_time": "2020-07-04T08:46:17.159003Z"
    }
   },
   "outputs": [],
   "source": [
    "model_new = Sequential([\n",
    "    Conv2D(32, 3, padding='same', activation='relu', \n",
    "           input_shape=(IMG_HEIGHT, IMG_WIDTH ,3)),\n",
    "    MaxPooling2D(),\n",
    "    Conv2D(64, 3, padding='same', strides=2, activation='relu'),\n",
    "    MaxPooling2D(),\n",
    "    Dropout(0.2),\n",
    "    Conv2D(128, 3, padding='same', strides=4, activation='relu'),\n",
    "    MaxPooling2D(),\n",
    "    Dropout(0.2),\n",
    "    Flatten(),\n",
    "    Dense(512, activation='relu'),\n",
    "    Dropout(0.3),\n",
    "    Dense(64, activation='relu'),\n",
    "    Dropout(0.3),\n",
    "    Dense(num_classes, activation='softmax')\n",
    "])"
   ]
  },
  {
   "cell_type": "code",
   "execution_count": null,
   "metadata": {
    "ExecuteTime": {
     "end_time": "2020-07-04T08:46:19.996945Z",
     "start_time": "2020-07-04T08:46:19.953935Z"
    }
   },
   "outputs": [],
   "source": [
    "model_new.compile( optimizer='adam', #optimizer='rmsprop',\n",
    "                  loss='binary_crossentropy',#tf.keras.losses.BinaryCrossentropy(from_logits=True),\n",
    "                  metrics=['accuracy'])\n",
    " \n",
    "model_new.summary()"
   ]
  },
  {
   "cell_type": "markdown",
   "metadata": {},
   "source": [
    "## Train the Model"
   ]
  },
  {
   "cell_type": "code",
   "execution_count": null,
   "metadata": {
    "ExecuteTime": {
     "end_time": "2020-07-04T08:46:25.907856Z",
     "start_time": "2020-07-04T08:46:25.902855Z"
    }
   },
   "outputs": [],
   "source": [
    "checkpoint_filepath = './tmp/model_checkpoint'\n",
    "\n",
    "model_checkpoint_callback = ModelCheckpoint(\n",
    "    filepath=checkpoint_filepath,\n",
    "    save_weights_only=True,\n",
    "    monitor='val_accuracy',\n",
    "    mode='max',\n",
    "    save_best_only=True)\n",
    "\n",
    "earlyStopping = EarlyStopping(monitor='val_loss', patience=10, verbose=1, mode='min')\n",
    "\n",
    "reduce_lr = ReduceLROnPlateau(monitor='val_loss', factor=0.5, patience=3, verbose=1,\n",
    "                              cooldown=0, mode='auto',min_delta=0.0001, min_lr=0)"
   ]
  },
  {
   "cell_type": "code",
   "execution_count": null,
   "metadata": {
    "ExecuteTime": {
     "end_time": "2020-07-03T11:57:32.218762Z",
     "start_time": "2020-07-03T11:57:32.212761Z"
    }
   },
   "outputs": [],
   "source": []
  },
  {
   "cell_type": "code",
   "execution_count": null,
   "metadata": {
    "ExecuteTime": {
     "end_time": "2020-07-04T10:33:39.790626Z",
     "start_time": "2020-07-04T10:12:56.534337Z"
    },
    "scrolled": false
   },
   "outputs": [],
   "source": [
    "history = model_new.fit(\n",
    "    train_data_gen,\n",
    "    epochs=epochs,\n",
    "    validation_data=validation_data_gen,\n",
    "    callbacks=[model_checkpoint_callback,earlyStopping,reduce_lr]\n",
    ")"
   ]
  },
  {
   "cell_type": "code",
   "execution_count": null,
   "metadata": {
    "ExecuteTime": {
     "end_time": "2020-07-04T10:42:47.603105Z",
     "start_time": "2020-07-04T10:42:47.360946Z"
    }
   },
   "outputs": [],
   "source": [
    "acc = history.history['accuracy']\n",
    "val_acc = history.history['val_accuracy']\n",
    "\n",
    "loss = history.history['loss']\n",
    "val_loss = history.history['val_loss']\n",
    "\n",
    "epochs_range = range(len(acc))\n",
    "\n",
    "plt.figure(figsize=(8, 8))\n",
    "plt.subplot(1, 2, 1)\n",
    "plt.plot(epochs_range, acc, label='Training Accuracy')\n",
    "plt.plot(epochs_range, val_acc, label='Validation Accuracy')\n",
    "plt.legend(loc='lower right')\n",
    "plt.title('Training and Validation Accuracy')\n",
    "\n",
    "plt.subplot(1, 2, 2)\n",
    "plt.plot(epochs_range, loss, label='Training Loss')\n",
    "plt.plot(epochs_range, val_loss, label='Validation Loss')\n",
    "plt.legend(loc='upper right')\n",
    "plt.title('Training and Validation Loss')\n",
    "plt.show()"
   ]
  },
  {
   "cell_type": "markdown",
   "metadata": {},
   "source": [
    "## Test"
   ]
  },
  {
   "cell_type": "code",
   "execution_count": null,
   "metadata": {
    "ExecuteTime": {
     "end_time": "2020-07-04T10:42:58.588720Z",
     "start_time": "2020-07-04T10:42:58.503700Z"
    }
   },
   "outputs": [],
   "source": [
    "test_data_gen = get_data_generator(image_generator_test, test_frame, shuffle=False)"
   ]
  },
  {
   "cell_type": "code",
   "execution_count": null,
   "metadata": {
    "ExecuteTime": {
     "end_time": "2020-07-04T10:43:02.812342Z",
     "start_time": "2020-07-04T10:42:59.236842Z"
    }
   },
   "outputs": [],
   "source": [
    "\n",
    "model_new.load_weights(checkpoint_filepath)\n",
    "used_model=model_new\n",
    "\n",
    "total_test=len(test_frame)\n",
    "\n",
    "Y_pred = used_model.predict(test_data_gen)#, steps=total_test // batch_size+1)\n",
    "predict_class = np.argmax(Y_pred, axis=1)\n",
    "predict_class = predict_class.tolist()\n",
    "\n",
    "ausgabe=0\n",
    "if ausgabe:\n",
    "    print('Predict\\n',predict_class)\n",
    "    print('Klassen\\n',test_data_gen.classes)\n",
    "    classes_table=[int(i=='no_mask') for i in test_frame['class'].tolist()]\n",
    "    print('Klassen Tabelle\\n', classes_table)\n",
    "    print(test_frame['class'].tolist())\n",
    "\n",
    "\n",
    "print('Confusion Matrix')\n",
    "print(confusion_matrix(test_data_gen.classes, predict_class))\n",
    "print('Classification Report')\n",
    "target_names = ['Mask','NoMask']\n",
    "print(classification_report(test_data_gen.classes, predict_class, target_names=target_names))"
   ]
  },
  {
   "cell_type": "code",
   "execution_count": null,
   "metadata": {
    "ExecuteTime": {
     "end_time": "2020-07-04T10:09:39.461717Z",
     "start_time": "2020-07-04T10:09:36.166706Z"
    }
   },
   "outputs": [],
   "source": [
    "#used_model.save('saved_model')\n",
    "used_model.save('saved_model_test')"
   ]
  },
  {
   "cell_type": "markdown",
   "metadata": {},
   "source": [
    "# Try out different models\n",
    "## Create models"
   ]
  },
  {
   "cell_type": "code",
   "execution_count": null,
   "metadata": {
    "ExecuteTime": {
     "end_time": "2020-07-03T16:59:13.277331Z",
     "start_time": "2020-07-03T16:59:13.116287Z"
    }
   },
   "outputs": [],
   "source": [
    "model_3 = Sequential([\n",
    "    Conv2D(32, 3, padding='same', activation='relu', \n",
    "           input_shape=(IMG_HEIGHT, IMG_WIDTH ,3)),\n",
    "    MaxPooling2D(),\n",
    "    Conv2D(32, 3, padding='same', strides=2, activation='relu'),\n",
    "    MaxPooling2D(),\n",
    "    Dropout(0.2),\n",
    "    Conv2D(64, 3, padding='same', strides=4, activation='relu'),\n",
    "    MaxPooling2D(),\n",
    "    Dropout(0.2),\n",
    "    Flatten(),\n",
    "    Dense(512, activation='relu'),\n",
    "    Dropout(0.3),\n",
    "    Dense(num_classes, activation='softmax')\n",
    "])\n",
    "model_3.compile( optimizer='adam',\n",
    "                  loss='binary_crossentropy',#tf.keras.losses.BinaryCrossentropy(from_logits=True),\n",
    "                  metrics=['accuracy'])\n",
    " \n",
    "model_3.summary()"
   ]
  },
  {
   "cell_type": "code",
   "execution_count": null,
   "metadata": {
    "ExecuteTime": {
     "end_time": "2020-07-03T16:59:13.475367Z",
     "start_time": "2020-07-03T16:59:13.278322Z"
    }
   },
   "outputs": [],
   "source": [
    "model_4 = Sequential([\n",
    "    Conv2D(128, 3, padding='same', activation='relu', \n",
    "           input_shape=(IMG_HEIGHT, IMG_WIDTH ,3)),\n",
    "    MaxPooling2D(),\n",
    "    Conv2D(64, 3, padding='same', strides=2, activation='relu'),\n",
    "    MaxPooling2D(),\n",
    "    Dropout(0.2),\n",
    "    Conv2D(32, 3, padding='same', strides=4, activation='relu'),\n",
    "    MaxPooling2D(),\n",
    "    Dropout(0.2),\n",
    "    Flatten(),\n",
    "    Dense(256, activation='relu'),\n",
    "    Dropout(0.3),\n",
    "    Dense(32, activation='relu'),\n",
    "    Dropout(0.3),\n",
    "    Dense(8, activation='relu'),\n",
    "    Dense(num_classes, activation='softmax')\n",
    "])\n",
    "model_4.compile( optimizer='adam',\n",
    "                  loss='binary_crossentropy',#tf.keras.losses.BinaryCrossentropy(from_logits=True),\n",
    "                  metrics=['accuracy'])\n",
    " \n",
    "model_4.summary()"
   ]
  },
  {
   "cell_type": "code",
   "execution_count": null,
   "metadata": {
    "ExecuteTime": {
     "end_time": "2020-07-03T16:59:13.656408Z",
     "start_time": "2020-07-03T16:59:13.476367Z"
    }
   },
   "outputs": [],
   "source": [
    "model_5 = Sequential([\n",
    "    Conv2D(32, 3, padding='same', activation='relu', \n",
    "           input_shape=(IMG_HEIGHT, IMG_WIDTH ,3)),\n",
    "    MaxPooling2D(),\n",
    "    Conv2D(128, 3, padding='same', strides=2, activation='relu'),\n",
    "    MaxPooling2D(),\n",
    "    Dropout(0.2),\n",
    "    Conv2D(64, 3, padding='same', strides=4, activation='relu'),\n",
    "    MaxPooling2D(),\n",
    "    Dropout(0.2),\n",
    "    Flatten(),\n",
    "    Dense(512, activation='relu'),\n",
    "    Dropout(0.3),\n",
    "    Dense(32, activation='relu'),\n",
    "    Dropout(0.3),\n",
    "    Dense(num_classes, activation='softmax')\n",
    "])\n",
    "model_5.compile( optimizer='adam',\n",
    "                  loss='binary_crossentropy',#tf.keras.losses.BinaryCrossentropy(from_logits=True),\n",
    "                  metrics=['accuracy'])\n",
    " \n",
    "model_5.summary()"
   ]
  },
  {
   "cell_type": "markdown",
   "metadata": {},
   "source": [
    "## Train models"
   ]
  },
  {
   "cell_type": "code",
   "execution_count": null,
   "metadata": {
    "ExecuteTime": {
     "end_time": "2020-07-03T18:34:53.373577Z",
     "start_time": "2020-07-03T16:59:13.657408Z"
    },
    "scrolled": false
   },
   "outputs": [],
   "source": [
    "models=[model_3, model_4, model_5]\n",
    "\n",
    "for model in models:\n",
    "    history = model_new.fit(\n",
    "        train_data_gen,\n",
    "        epochs=epochs,\n",
    "        validation_data=validation_data_gen,\n",
    "        callbacks=[model_checkpoint_callback,earlyStopping,reduce_lr]\n",
    "    )\n",
    "\n",
    "    acc = history.history['accuracy']\n",
    "    val_acc = history.history['val_accuracy']\n",
    "\n",
    "    loss = history.history['loss']\n",
    "    val_loss = history.history['val_loss']\n",
    "\n",
    "    epochs_range = range(len(acc))\n",
    "\n",
    "    plt.figure(figsize=(8, 8))\n",
    "    plt.subplot(1, 2, 1)\n",
    "    plt.plot(epochs_range, acc, label='Training Accuracy')\n",
    "    plt.plot(epochs_range, val_acc, label='Validation Accuracy')\n",
    "    plt.legend(loc='lower right')\n",
    "    plt.title('Training and Validation Accuracy')\n",
    "\n",
    "    plt.subplot(1, 2, 2)\n",
    "    plt.plot(epochs_range, loss, label='Training Loss')\n",
    "    plt.plot(epochs_range, val_loss, label='Validation Loss')\n",
    "    plt.legend(loc='upper right')\n",
    "    plt.title('Training and Validation Loss')\n",
    "    plt.show()"
   ]
  },
  {
   "cell_type": "code",
   "execution_count": null,
   "metadata": {
    "ExecuteTime": {
     "end_time": "2020-07-03T15:33:22.280840Z",
     "start_time": "2020-07-03T15:33:22.276841Z"
    }
   },
   "outputs": [],
   "source": []
  },
  {
   "cell_type": "code",
   "execution_count": null,
   "metadata": {},
   "outputs": [],
   "source": []
  }
 ],
 "metadata": {
  "kernelspec": {
   "display_name": "Python 3",
   "language": "python",
   "name": "python3"
  },
  "language_info": {
   "codemirror_mode": {
    "name": "ipython",
    "version": 3
   },
   "file_extension": ".py",
   "mimetype": "text/x-python",
   "name": "python",
   "nbconvert_exporter": "python",
   "pygments_lexer": "ipython3",
   "version": "3.7.7"
  },
  "toc": {
   "base_numbering": 1,
   "nav_menu": {},
   "number_sections": true,
   "sideBar": true,
   "skip_h1_title": false,
   "title_cell": "Table of Contents",
   "title_sidebar": "Contents",
   "toc_cell": false,
   "toc_position": {
    "height": "calc(100% - 180px)",
    "left": "10px",
    "top": "150px",
    "width": "327.68px"
   },
   "toc_section_display": true,
   "toc_window_display": true
  }
 },
 "nbformat": 4,
 "nbformat_minor": 4
}
